{
 "cells": [
  {
   "cell_type": "markdown",
   "id": "1d567383",
   "metadata": {},
   "source": [
    "**Import Libraries:**"
   ]
  },
  {
   "cell_type": "code",
   "execution_count": 1,
   "id": "1bf11ae5",
   "metadata": {},
   "outputs": [],
   "source": [
    "import pandas as pd\n",
    "import matplotlib.pyplot as plt\n",
    "import numpy as np\n",
    "\n",
    "# seaborn is a data visualization library built on matplotlib\n",
    "import seaborn as sns\n",
    "\n",
    "# set the plotting style\n",
    "sns.set_style(\"whitegrid\")"
   ]
  },
  {
   "cell_type": "code",
   "execution_count": 25,
   "id": "c6190713",
   "metadata": {},
   "outputs": [
    {
     "name": "stdout",
     "output_type": "stream",
     "text": [
      "('application/vnd.openxmlformats-officedocument.spreadsheetml.sheet', None)\n"
     ]
    }
   ],
   "source": [
    "import mimetypes\n",
    "print(mimetypes.guess_type(\"../data/EdGap_data.xlsx\")) "
   ]
  },
  {
   "cell_type": "markdown",
   "id": "6b9ce1a8",
   "metadata": {},
   "source": [
    "**Load Data:**"
   ]
  },
  {
   "cell_type": "code",
   "execution_count": 27,
   "id": "de6619a8",
   "metadata": {},
   "outputs": [],
   "source": [
    "# Load the datasets\n",
    "edgap_data = pd.read_excel('../data/EdGap_data.xlsx')\n",
    "ccd_sch = pd.read_csv('../data/ccd_sch_029_1617_w_1a_11212017.csv', encoding='latin1')"
   ]
  },
  {
   "cell_type": "code",
   "execution_count": null,
   "id": "246cd083",
   "metadata": {},
   "outputs": [],
   "source": [
    "ccd_sch.info()"
   ]
  },
  {
   "cell_type": "markdown",
   "id": "70ead2cc",
   "metadata": {},
   "source": [
    "**Display head of data:**"
   ]
  },
  {
   "cell_type": "code",
   "execution_count": 31,
   "id": "903a25c1",
   "metadata": {},
   "outputs": [
    {
     "name": "stdout",
     "output_type": "stream",
     "text": [
      "EdGap data:\n",
      "   NCESSCH School ID  CT Unemployment Rate  CT Pct Adults with College Degree  \\\n",
      "0       100001600143              0.117962                           0.445283   \n",
      "1       100008000024              0.063984                           0.662765   \n",
      "2       100008000225              0.056460                           0.701864   \n",
      "3       100017000029              0.044739                           0.692062   \n",
      "4       100018000040              0.077014                           0.640060   \n",
      "\n",
      "   CT Pct Childre In Married Couple Family  CT Median Household Income  \\\n",
      "0                                 0.346495                     42820.0   \n",
      "1                                 0.767619                     89320.0   \n",
      "2                                 0.713090                     84140.0   \n",
      "3                                 0.641283                     56500.0   \n",
      "4                                 0.834402                     54015.0   \n",
      "\n",
      "   School ACT average (or equivalent if SAT score)  \\\n",
      "0                                        20.433455   \n",
      "1                                        19.498168   \n",
      "2                                        19.554335   \n",
      "3                                        17.737485   \n",
      "4                                        18.245421   \n",
      "\n",
      "   School Pct Free and Reduced Lunch  \n",
      "0                           0.066901  \n",
      "1                           0.112412  \n",
      "2                           0.096816  \n",
      "3                           0.296960  \n",
      "4                           0.262641  \n"
     ]
    }
   ],
   "source": [
    "# Display the first few rows of each dataset\n",
    "print(\"EdGap data:\")\n",
    "print(edgap_data.head())"
   ]
  },
  {
   "cell_type": "code",
   "execution_count": 32,
   "id": "0859fa79",
   "metadata": {},
   "outputs": [
    {
     "name": "stdout",
     "output_type": "stream",
     "text": [
      "\n",
      "School information data:\n",
      "  SCHOOL_YEAR STATENAME  ST                          SCH_NAME  \\\n",
      "0   2016-2017   ALABAMA  AL  Sequoyah Sch - Chalkville Campus   \n",
      "1   2016-2017   ALABAMA  AL                             Camps   \n",
      "2   2016-2017   ALABAMA  AL                           Det Ctr   \n",
      "3   2016-2017   ALABAMA  AL     Wallace Sch - Mt Meigs Campus   \n",
      "4   2016-2017   ALABAMA  AL         McNeel Sch - Vacca Campus   \n",
      "\n",
      "                 LEA_NAME ST_LEAID   LEAID     ST_SCHID       NCESSCH   SCHID  \\\n",
      "0  Alabama Youth Services   AL-210  100002  AL-210-0020  1.000020e+10  100277   \n",
      "1  Alabama Youth Services   AL-210  100002  AL-210-0050  1.000020e+10  101667   \n",
      "2  Alabama Youth Services   AL-210  100002  AL-210-0060  1.000020e+10  101670   \n",
      "3  Alabama Youth Services   AL-210  100002  AL-210-0030  1.000020e+10  101705   \n",
      "4  Alabama Youth Services   AL-210  100002  AL-210-0040  1.000020e+10  101706   \n",
      "\n",
      "   ...   MZIP                     LSTREET1        LCITY  LSTATE   LZIP  \\\n",
      "0  ...  35220  1000 Industrial School Road   Birmingham      AL  35220   \n",
      "1  ...  36057           1601 County Rd. 57   Prattville      AL  36067   \n",
      "2  ...  36057       2109 Bashi Rd Bldg 509  Thomasville      AL  36784   \n",
      "3  ...  36057  1000 Industrial School Road  Mount Meigs      AL  36057   \n",
      "4  ...  35206            8950 Roebuck Blvd   Birmingham      AL  35206   \n",
      "\n",
      "  UPDATED_STATUS_TEXT EFFECTIVE_DATE       SCH_TYPE_TEXT SCH_TYPE LEVEL  \n",
      "0                Open         3/3/10  Alternative School        4  High  \n",
      "1                Open         3/3/10  Alternative School        4  High  \n",
      "2                Open         3/3/10  Alternative School        4  High  \n",
      "3                Open         3/3/10  Alternative School        4  High  \n",
      "4                Open         3/3/10  Alternative School        4  High  \n",
      "\n",
      "[5 rows x 23 columns]\n"
     ]
    }
   ],
   "source": [
    "# Display the first few rows of each dataset\n",
    "print(\"\\nSchool information data:\")\n",
    "print(ccd_sch.head())"
   ]
  }
 ],
 "metadata": {
  "kernelspec": {
   "display_name": "3.12.11",
   "language": "python",
   "name": "python3"
  },
  "language_info": {
   "codemirror_mode": {
    "name": "ipython",
    "version": 3
   },
   "file_extension": ".py",
   "mimetype": "text/x-python",
   "name": "python",
   "nbconvert_exporter": "python",
   "pygments_lexer": "ipython3",
   "version": "3.12.11"
  }
 },
 "nbformat": 4,
 "nbformat_minor": 5
}
